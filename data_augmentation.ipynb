{
 "cells": [
  {
   "cell_type": "markdown",
   "metadata": {},
   "source": [
    "# Data Augmentation\n",
    "\n",
    "In this project we are trying to identify the presence, location and type of hemorrhage in order to quickly and effectively treat affected patients.\n",
    "\n",
    "Below are the hemorrhage types:\n",
    "1. Epidural\n",
    "2. Intraparenchymal\n",
    "3. Intraventricular\n",
    "4. Subarachnoid\n",
    "5. Subdural\n",
    "\n",
    "Our training dataset consists of around 620K X-RAY images. A given X-RAY can have multiple types of hemorrhage or may not have a hemorrhage at all. Thus, our dataset will consist of images belonging either to the above five classes or to a `none` class. \n",
    "\n",
    "Running `preprocess.py` script before running this notebook will create a directory called `data` and place all the images in the right sub-folder depending on the class they belong to.\n",
    "\n",
    "Now since we have the entire dataset segregated properly, let's start examining the dataset to determine if we need to augment any class or not."
   ]
  },
  {
   "cell_type": "markdown",
   "metadata": {},
   "source": [
    "### Strategy\n",
    "As we know that if an image has hemorrhage, it can belong to multiple classes. Thus, a traditional CNN with the above classes as labels won't work. As a brute force strategy, we'll try to train five models, one for each class where our labels will be `<hemorrhage_class>, <no_hemorrhage>`. E.g. `epidural, none`\n",
    "\n",
    "The `preprocess.py` script has placed all non-hemorrhage images in `none` folder.\n",
    "\n",
    "Let's determine if the number of images in `<hemorrhage_class>` and `<no_hemorrhage>` class are balanced"
   ]
  },
  {
   "cell_type": "code",
   "execution_count": 14,
   "metadata": {},
   "outputs": [],
   "source": [
    "import os\n",
    "import numpy as np\n",
    "from PIL import Image, ImageFilter\n",
    "import matplotlib.pyplot as plt\n",
    "from tqdm import tqdm\n",
    "\n",
    "DATASET = './data/'\n",
    "DCM_DATASET = './stage_1_train_images/'\n",
    "\n",
    "NONE = 'none/'\n",
    "total_no_hemorrhage = len(os.listdir(DATASET + NONE))"
   ]
  },
  {
   "cell_type": "markdown",
   "metadata": {},
   "source": [
    "## Epidural\n",
    "Let's see if we need to augment images in Epidural class or not"
   ]
  },
  {
   "cell_type": "code",
   "execution_count": 9,
   "metadata": {},
   "outputs": [
    {
     "data": {
      "image/png": "[encoded data removed]",
      "text/plain": [
       "<Figure size 432x288 with 1 Axes>"
      ]
     },
     "metadata": {
      "needs_background": "light"
     },
     "output_type": "display_data"
    },
    {
     "name": "stdout",
     "output_type": "stream",
     "text": [
      "Total epidural images: 2761\n"
     ]
    }
   ],
   "source": [
    "def draw_bar_graph(x, y):\n",
    "    x_pos = [i for i, _ in enumerate(x)]\n",
    "    \n",
    "    plt.bar(x_pos, y, color='green')\n",
    "    plt.xlabel('Class')\n",
    "    plt.ylabel('# of images')\n",
    "    \n",
    "    plt.xticks(x_pos, x)\n",
    "    \n",
    "    plt.show()\n",
    "\n",
    "cls = ['Epidural', 'None']\n",
    "y = [len(os.listdir(DATASET + 'epidural')), total_no_hemorrhage]\n",
    "draw_bar_graph(cls, y)\n",
    "\n",
    "print('Total epidural images: {}'.format(str(len(os.listdir(DATASET + 'epidural')))))"
   ]
  },
  {
   "cell_type": "markdown",
   "metadata": {},
   "source": [
    "There is huge inbalance as there are 2.7k Epidural images and around 570k images not having hemorrhage. "
   ]
  },
  {
   "cell_type": "markdown",
   "metadata": {},
   "source": [
    "## Data Augmentation\n",
    "We will perform synthetic sampling if ther is an inbalance between classes. For every image in unbalanced class, we'll generate its blurred and unsharped images and save them to disk. This would increase the number of images in the unbalanced class by 2x. But despite of augmentation, there is still a huge imbalance. In such cases, we'll ignore the excess images from `none` class during training."
   ]
  },
  {
   "cell_type": "code",
   "execution_count": 10,
   "metadata": {},
   "outputs": [],
   "source": [
    "def augmentation(path, filename):\n",
    "    img = Image.open(path + filename + '.jpg')\n",
    "    img = img.convert('RGB')\n",
    "    img_blur = img.filter(ImageFilter.GaussianBlur)\n",
    "    img_unsharp = img.filter(ImageFilter.UnsharpMask)\n",
    "    \n",
    "    img_blur.save(path + filename + '_blur.jpg')\n",
    "    img_unsharp.save(path + filename + '_unsharp.jpg')"
   ]
  },
  {
   "cell_type": "code",
   "execution_count": 15,
   "metadata": {},
   "outputs": [
    {
     "name": "stderr",
     "output_type": "stream",
     "text": [
      "100%|██████████████████████████████████████████████████████████████████████████████| 2761/2761 [01:58<00:00, 23.20it/s]\n"
     ]
    }
   ],
   "source": [
    "for f in tqdm(os.listdir(DATASET + 'epidural')):\n",
    "    f_name = f.split('.')[0]\n",
    "    augmentation(DATASET + 'epidural/', f_name)"
   ]
  },
  {
   "cell_type": "markdown",
   "metadata": {},
   "source": [
    "## Intraparenchymal\n",
    "Let's see if we need to augment Intraparenchmyal class or not"
   ]
  },
  {
   "cell_type": "code",
   "execution_count": 16,
   "metadata": {},
   "outputs": [
    {
     "data": {
      "image/png": "[encoded data removed]",
      "text/plain": [
       "<Figure size 432x288 with 1 Axes>"
      ]
     },
     "metadata": {
      "needs_background": "light"
     },
     "output_type": "display_data"
    },
    {
     "name": "stdout",
     "output_type": "stream",
     "text": [
      "Total epidural images: 32564\n"
     ]
    },
    {
     "name": "stderr",
     "output_type": "stream",
     "text": [
      "100%|████████████████████████████████████████████████████████████████████████████| 32564/32564 [18:09<00:00, 29.89it/s]\n"
     ]
    }
   ],
   "source": [
    "cls = ['Intraparenchymal', 'None']\n",
    "y = [len(os.listdir(DATASET + 'intraparenchymal')), total_no_hemorrhage]\n",
    "draw_bar_graph(cls, y)\n",
    "\n",
    "print('Total epidural images: {}'.format(str(len(os.listdir(DATASET + 'Intraparenchymal')))))\n",
    "\n",
    "for f in tqdm(os.listdir(DATASET + 'intraparenchymal')):\n",
    "    f_name = f.split('.')[0]\n",
    "    augmentation(DATASET + 'intraparenchymal/', f_name)"
   ]
  },
  {
   "cell_type": "markdown",
   "metadata": {},
   "source": [
    "## Intraventricular\n",
    "Let's see if we need to augment Intraventricular class or not"
   ]
  },
  {
   "cell_type": "code",
   "execution_count": 17,
   "metadata": {},
   "outputs": [
    {
     "data": {
      "image/png": "[encoded data removed]",
      "text/plain": [
       "<Figure size 432x288 with 1 Axes>"
      ]
     },
     "metadata": {
      "needs_background": "light"
     },
     "output_type": "display_data"
    },
    {
     "name": "stdout",
     "output_type": "stream",
     "text": [
      "Total epidural images: 23766\n"
     ]
    },
    {
     "name": "stderr",
     "output_type": "stream",
     "text": [
      "100%|████████████████████████████████████████████████████████████████████████████| 23766/23766 [13:31<00:00, 29.29it/s]\n"
     ]
    }
   ],
   "source": [
    "cls = ['intraventricular', 'None']\n",
    "y = [len(os.listdir(DATASET + 'intraventricular')), total_no_hemorrhage]\n",
    "draw_bar_graph(cls, y)\n",
    "\n",
    "print('Total epidural images: {}'.format(str(len(os.listdir(DATASET + 'intraventricular')))))\n",
    "\n",
    "for f in tqdm(os.listdir(DATASET + 'intraventricular')):\n",
    "    f_name = f.split('.')[0]\n",
    "    augmentation(DATASET + 'intraventricular/', f_name)"
   ]
  },
  {
   "cell_type": "markdown",
   "metadata": {},
   "source": [
    "## Subarachnoid\n",
    "Let's see if we need to augment Subarachnoid class or not"
   ]
  },
  {
   "cell_type": "code",
   "execution_count": 18,
   "metadata": {},
   "outputs": [
    {
     "data": {
      "image/png": "[encoded data removed]",
      "text/plain": [
       "<Figure size 432x288 with 1 Axes>"
      ]
     },
     "metadata": {
      "needs_background": "light"
     },
     "output_type": "display_data"
    },
    {
     "name": "stdout",
     "output_type": "stream",
     "text": [
      "Total epidural images: 32122\n"
     ]
    },
    {
     "name": "stderr",
     "output_type": "stream",
     "text": [
      "100%|████████████████████████████████████████████████████████████████████████████| 32122/32122 [18:01<00:00, 29.69it/s]\n"
     ]
    }
   ],
   "source": [
    "cls = ['Subarachnoid', 'None']\n",
    "y = [len(os.listdir(DATASET + 'subarachnoid')), total_no_hemorrhage]\n",
    "draw_bar_graph(cls, y)\n",
    "\n",
    "print('Total epidural images: {}'.format(str(len(os.listdir(DATASET + 'subarachnoid')))))\n",
    "\n",
    "for f in tqdm(os.listdir(DATASET + 'subarachnoid')):\n",
    "    f_name = f.split('.')[0]\n",
    "    augmentation(DATASET + 'subarachnoid/', f_name)"
   ]
  },
  {
   "cell_type": "markdown",
   "metadata": {},
   "source": [
    "## Subdural\n",
    "Let's seeif we need to augment Subdural class or not"
   ]
  },
  {
   "cell_type": "code",
   "execution_count": 19,
   "metadata": {},
   "outputs": [
    {
     "data": {
      "image/png": "[encoded data removed]",
      "text/plain": [
       "<Figure size 432x288 with 1 Axes>"
      ]
     },
     "metadata": {
      "needs_background": "light"
     },
     "output_type": "display_data"
    },
    {
     "name": "stdout",
     "output_type": "stream",
     "text": [
      "Total epidural images: 42496\n"
     ]
    },
    {
     "name": "stderr",
     "output_type": "stream",
     "text": [
      "100%|████████████████████████████████████████████████████████████████████████████| 42496/42496 [23:28<00:00, 30.18it/s]\n"
     ]
    }
   ],
   "source": [
    "cls = ['Subdural', 'None']\n",
    "y = [len(os.listdir(DATASET + 'subdural')), total_no_hemorrhage]\n",
    "draw_bar_graph(cls, y)\n",
    "\n",
    "print('Total epidural images: {}'.format(str(len(os.listdir(DATASET + 'subdural')))))\n",
    "\n",
    "for f in tqdm(os.listdir(DATASET + 'subdural')):\n",
    "    f_name = f.split('.')[0]\n",
    "    augmentation(DATASET + 'subdural/', f_name)"
   ]
  },
  {
   "cell_type": "code",
   "execution_count": null,
   "metadata": {},
   "outputs": [],
   "source": []
  }
 ],
 "metadata": {
  "kernelspec": {
   "display_name": "Python 3",
   "language": "python",
   "name": "python3"
  },
  "language_info": {
   "codemirror_mode": {
    "name": "ipython",
    "version": 3
   },
   "file_extension": ".py",
   "mimetype": "text/x-python",
   "name": "python",
   "nbconvert_exporter": "python",
   "pygments_lexer": "ipython3",
   "version": "3.6.7"
  }
 },
 "nbformat": 4,
 "nbformat_minor": 2
}
